{
 "cells": [
  {
   "cell_type": "code",
   "execution_count": 1,
   "metadata": {},
   "outputs": [],
   "source": [
    "import pandas as pd\n",
    "import numpy as np\n",
    "import yaml\n",
    "import gzip\n",
    "from scripts.data_processor import DataProcessor\n"
   ]
  },
  {
   "cell_type": "code",
   "execution_count": 2,
   "metadata": {},
   "outputs": [],
   "source": [
    "\n",
    "def get_config(file_name):\n",
    "\n",
    "    with open(file_name, 'r', encoding=\"UTF-8\") as stream:\n",
    "        config = yaml.safe_load(stream)\n",
    "    return config\n",
    "\n",
    "\n",
    "def parse_metadata(file_path):\n",
    "    data = {}\n",
    "    with gzip.open(file_path, 'rt') as f:\n",
    "        lines = f.readlines()\n",
    "\n",
    "    for line in lines:\n",
    "        splited = line.split('\\t', 1)\n",
    "        if len(splited) >= 2:\n",
    "            # Only include lines where the first part is '!Sample_title' or does not start with '!'\n",
    "            if splited[0].strip() == '!Sample_title' or not splited[0].lstrip().startswith('!'):\n",
    "                data[splited[0].strip()] = splited[1].strip().strip(\n",
    "                    '\"').split(\"\\t\")\n",
    "\n",
    "    df = pd.DataFrame.from_dict(data, orient='index').transpose()\n",
    "    df.drop(columns=['!Sample_title'], inplace=True)\n",
    "    df.drop('\"ID_REF\"', inplace=True, axis=1)\n",
    "    df = df.apply(pd.to_numeric, errors='coerce')\n",
    "    return df\n",
    "\n",
    "\n",
    "def retrieve_data():\n",
    "\n",
    "    config = get_config('../config.yaml')\n",
    "    lung3 = config['lung3']\n",
    "    gene = config['gene']\n",
    "\n",
    "    lung3_df = pd.read_csv(lung3)\n",
    "\n",
    "    gene_df = pd.read_csv(gene, sep= '\\t', comment= \"!\")\n",
    "    gene_df.set_index('ID_REF', inplace=True)\n",
    "    gene_df = gene_df.T\n",
    "    gene_df.reset_index(drop=True, inplace=True)\n",
    "    combined_df = lung3_df.merge(gene_df, left_index=True, right_index=True)\n",
    "    return combined_df"
   ]
  },
  {
   "cell_type": "markdown",
   "metadata": {},
   "source": [
    "\n",
    " ### <span style=\"background-color: lightyellow;\"> Initial Data Preprocessing</span>"
   ]
  },
  {
   "cell_type": "code",
   "execution_count": 3,
   "metadata": {},
   "outputs": [
    {
     "name": "stderr",
     "output_type": "stream",
     "text": [
      "/homes/rmeshita/Documents/Programming_6/dask/pandas_workflow/scripts/data_processor.py:198: RuntimeWarning: Unable to calculate Cramér's V using bias correction. Consider not using bias correction\n",
      "  warnings.warn(\n",
      "/homes/rmeshita/Documents/Programming_6/dask/pandas_workflow/scripts/data_processor.py:198: RuntimeWarning: Unable to calculate Cramér's V using bias correction. Consider not using bias correction\n",
      "  warnings.warn(\n",
      "/homes/rmeshita/Documents/Programming_6/dask/pandas_workflow/scripts/data_processor.py:198: RuntimeWarning: Unable to calculate Cramér's V using bias correction. Consider not using bias correction\n",
      "  warnings.warn(\n",
      "/homes/rmeshita/Documents/Programming_6/dask/pandas_workflow/scripts/data_processor.py:124: FutureWarning: Downcasting object dtype arrays on .fillna, .ffill, .bfill is deprecated and will change in a future version. Call result.infer_objects(copy=False) instead. To opt-in to the future behavior, set `pd.set_option('future.no_silent_downcasting', True)`\n",
      "  cramer.fillna(0, inplace=True)\n"
     ]
    },
    {
     "data": {
      "text/plain": [
       "(89, 60611)"
      ]
     },
     "execution_count": 3,
     "metadata": {},
     "output_type": "execute_result"
    }
   ],
   "source": [
    "def sub_classification(histology):\n",
    "    if \"Carcinoma\" in histology:\n",
    "        return 'Carcinoma'\n",
    "    elif \"Adenocarcinoma\" in histology:\n",
    "        return 'Adenocarcinoma'\n",
    "    else:\n",
    "        return 'Others'\n",
    "\n",
    "dataset = retrieve_data()\n",
    "y = dataset['characteristics.tag.histology'].apply(lambda x: sub_classification(x))\n",
    "dataset.drop(columns='characteristics.tag.histology',inplace=True)\n",
    "\n",
    "data_processor = DataProcessor(dataset)\n",
    "data_processor.remove_non_related_columns()\n",
    "data_processor.impute_not_available_values('characteristics.tag.grade')\n",
    "data_processor.drop_nan_columns(35)\n",
    "\n",
    "data_processor.cramerV(y, 0)\n",
    "covarrianced_columns = data_processor.covarrianced_columns\n",
    "removed_catagorical_features = set(data_processor.find_cols_on_type('object')) - set(covarrianced_columns)\n",
    "data_processor.drop_columns(column_list = list(removed_catagorical_features))\n",
    "data_processor.selecting_high_variance_gene_expression(95)\n",
    "dataset = data_processor.dataframe\n",
    "dataset['classes'] = y\n",
    "dataset.shape"
   ]
  },
  {
   "cell_type": "markdown",
   "metadata": {},
   "source": [
    "### <span style=\"background-color: lightyellow;\">EDA Task</span>\n",
    "\n",
    "- Calculate summary statistics (e.g., mean, median, standard deviation) for clinical variables and gene expression data.\n",
    "- Identify the top 10 most variable genes across patients.\n",
    "- Group patients by clinical variables and compute the average expression of selected genes.\n",
    "- Visualize the distribution of the target variable (TumorSubtype)."
   ]
  },
  {
   "cell_type": "code",
   "execution_count": 4,
   "metadata": {},
   "outputs": [],
   "source": [
    "def calculate_statistics(df):\n",
    "\n",
    "    numerical_cols = df.select_dtypes(include=[np.number])\n",
    "\n",
    "    describe_df = numerical_cols.describe().T\n",
    "    describe_df['median'] = numerical_cols.median()\n",
    "\n",
    "    stats_df = describe_df[['mean', 'median', 'std']]\n",
    "\n",
    "\n",
    "    return stats_df"
   ]
  },
  {
   "cell_type": "code",
   "execution_count": 5,
   "metadata": {},
   "outputs": [],
   "source": [
    "# Calculate summary statistics (e.g., mean, median, standard deviation) for clinical variables and gene expression data.\n",
    "stats_df = calculate_statistics(dataset)"
   ]
  },
  {
   "cell_type": "code",
   "execution_count": 6,
   "metadata": {},
   "outputs": [
    {
     "data": {
      "text/plain": [
       "['merck2-AA622265_at',\n",
       " 'merck2-AK074475_at',\n",
       " 'merck-NM_005362_s_at',\n",
       " 'merck-CR749383_at',\n",
       " 'merck-NM_003125_at',\n",
       " 'merck2-NM_005555_at',\n",
       " 'merck-NM_000673_at',\n",
       " 'merck2-BM983732_at',\n",
       " 'merck2-NM_012397_at',\n",
       " 'merck-AJ001612_at']"
      ]
     },
     "execution_count": 6,
     "metadata": {},
     "output_type": "execute_result"
    }
   ],
   "source": [
    "# Identify the top 10 most variable genes across patients.\n",
    "import re\n",
    "variances = {}\n",
    "gens = [col for col in dataset.columns if re.match(r'.*_at$',col)]\n",
    "for col in gens:\n",
    "    data = dataset[col]\n",
    "    log_normalized = np.log1p(data)\n",
    "    variances[col] = log_normalized.var()\n",
    "\n",
    "\n",
    "variances = list(sorted(variances.items(), key=lambda item: item[1], reverse=True))\n",
    "top_var_genes = [gene for gene, _ in variances[:10]]\n",
    "top_var_genes"
   ]
  },
  {
   "cell_type": "code",
   "execution_count": 7,
   "metadata": {},
   "outputs": [
    {
     "data": {
      "text/html": [
       "<div>\n",
       "<style scoped>\n",
       "    .dataframe tbody tr th:only-of-type {\n",
       "        vertical-align: middle;\n",
       "    }\n",
       "\n",
       "    .dataframe tbody tr th {\n",
       "        vertical-align: top;\n",
       "    }\n",
       "\n",
       "    .dataframe thead th {\n",
       "        text-align: right;\n",
       "    }\n",
       "</style>\n",
       "<table border=\"1\" class=\"dataframe\">\n",
       "  <thead>\n",
       "    <tr style=\"text-align: right;\">\n",
       "      <th></th>\n",
       "      <th>merck2-AA622265_at</th>\n",
       "      <th>merck2-AK074475_at</th>\n",
       "      <th>merck-NM_005362_s_at</th>\n",
       "      <th>merck-CR749383_at</th>\n",
       "      <th>merck-NM_003125_at</th>\n",
       "      <th>merck2-NM_005555_at</th>\n",
       "      <th>merck-NM_000673_at</th>\n",
       "      <th>merck2-BM983732_at</th>\n",
       "      <th>merck2-NM_012397_at</th>\n",
       "      <th>merck-AJ001612_at</th>\n",
       "    </tr>\n",
       "    <tr>\n",
       "      <th>characteristics.tag.gender</th>\n",
       "      <th></th>\n",
       "      <th></th>\n",
       "      <th></th>\n",
       "      <th></th>\n",
       "      <th></th>\n",
       "      <th></th>\n",
       "      <th></th>\n",
       "      <th></th>\n",
       "      <th></th>\n",
       "      <th></th>\n",
       "    </tr>\n",
       "  </thead>\n",
       "  <tbody>\n",
       "    <tr>\n",
       "      <th>F</th>\n",
       "      <td>6.285481</td>\n",
       "      <td>3.929155</td>\n",
       "      <td>3.833551</td>\n",
       "      <td>10.620725</td>\n",
       "      <td>6.335944</td>\n",
       "      <td>5.081515</td>\n",
       "      <td>2.828152</td>\n",
       "      <td>9.848369</td>\n",
       "      <td>2.951356</td>\n",
       "      <td>4.006092</td>\n",
       "    </tr>\n",
       "    <tr>\n",
       "      <th>M</th>\n",
       "      <td>5.398513</td>\n",
       "      <td>5.578471</td>\n",
       "      <td>6.216304</td>\n",
       "      <td>2.820994</td>\n",
       "      <td>7.844238</td>\n",
       "      <td>6.613083</td>\n",
       "      <td>4.760859</td>\n",
       "      <td>2.650069</td>\n",
       "      <td>4.832564</td>\n",
       "      <td>3.557385</td>\n",
       "    </tr>\n",
       "  </tbody>\n",
       "</table>\n",
       "</div>"
      ],
      "text/plain": [
       "                            merck2-AA622265_at  merck2-AK074475_at  \\\n",
       "characteristics.tag.gender                                           \n",
       "F                                     6.285481            3.929155   \n",
       "M                                     5.398513            5.578471   \n",
       "\n",
       "                            merck-NM_005362_s_at  merck-CR749383_at  \\\n",
       "characteristics.tag.gender                                            \n",
       "F                                       3.833551          10.620725   \n",
       "M                                       6.216304           2.820994   \n",
       "\n",
       "                            merck-NM_003125_at  merck2-NM_005555_at  \\\n",
       "characteristics.tag.gender                                            \n",
       "F                                     6.335944             5.081515   \n",
       "M                                     7.844238             6.613083   \n",
       "\n",
       "                            merck-NM_000673_at  merck2-BM983732_at  \\\n",
       "characteristics.tag.gender                                           \n",
       "F                                     2.828152            9.848369   \n",
       "M                                     4.760859            2.650069   \n",
       "\n",
       "                            merck2-NM_012397_at  merck-AJ001612_at  \n",
       "characteristics.tag.gender                                          \n",
       "F                                      2.951356           4.006092  \n",
       "M                                      4.832564           3.557385  "
      ]
     },
     "execution_count": 7,
     "metadata": {},
     "output_type": "execute_result"
    }
   ],
   "source": [
    "# - Group patients by clinical variables and compute the average expression of selected genes.\n",
    "dataset.groupby(\"characteristics.tag.gender\")[top_var_genes].mean()"
   ]
  },
  {
   "cell_type": "code",
   "execution_count": 8,
   "metadata": {},
   "outputs": [
    {
     "data": {
      "text/plain": [
       "<Axes: xlabel='classes'>"
      ]
     },
     "execution_count": 8,
     "metadata": {},
     "output_type": "execute_result"
    },
    {
     "data": {
      "image/png": "[encoded data removed]",
      "text/plain": [
       "<Figure size 640x480 with 1 Axes>"
      ]
     },
     "metadata": {},
     "output_type": "display_data"
    }
   ],
   "source": [
    "# - Visualize the distribution of the target variable (TumorSubtype).\n",
    "\n",
    "dataset['classes'].value_counts().plot.bar()"
   ]
  }
 ],
 "metadata": {
  "kernelspec": {
   "display_name": "Python 3.10.9 ('base')",
   "language": "python",
   "name": "python3"
  },
  "language_info": {
   "codemirror_mode": {
    "name": "ipython",
    "version": 3
   },
   "file_extension": ".py",
   "mimetype": "text/x-python",
   "name": "python",
   "nbconvert_exporter": "python",
   "pygments_lexer": "ipython3",
   "version": "3.10.16"
  },
  "vscode": {
   "interpreter": {
    "hash": "6b206076adfde74b94edf3e7fcee64be8304c1723f9b5959762d795d94eb4b82"
   }
  }
 },
 "nbformat": 4,
 "nbformat_minor": 4
}
