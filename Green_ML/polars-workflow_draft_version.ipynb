{
 "cells": [
  {
   "cell_type": "code",
   "execution_count": 1,
   "metadata": {},
   "outputs": [],
   "source": [
    "import polars as pl\n",
    "\n",
    "import numpy as np\n",
    "import yaml\n",
    "import gzip\n",
    "import re\n",
    "from scipy.stats import chi2_contingency\n",
    "import matplotlib.pyplot as plt\n",
    "import seaborn as sns\n",
    "import warnings\n",
    "\n",
    "from IPython.display import HTML \n",
    "#sckit learn\n",
    "\n",
    "from sklearn.preprocessing  import StandardScaler, OneHotEncoder\n",
    "from sklearn.manifold import MDS \n",
    "from sklearn.feature_selection import VarianceThreshold\n",
    "from sklearn.compose import ColumnTransformer\n",
    "from sklearn.preprocessing import LabelEncoder\n",
    "from sklearn.model_selection import train_test_split\n",
    "from sklearn.base import BaseEstimator, TransformerMixin\n",
    "from data_processor_polars import DataProcessor\n",
    "from sklearn.metrics import adjusted_rand_score, adjusted_mutual_info_score"
   ]
  },
  {
   "cell_type": "markdown",
   "metadata": {},
   "source": [
    "### <span style=\"background-color: lightyellow;\">Data retrieval task</span>\n",
    "- Retrieve the data. (No cleaning needed yet)"
   ]
  },
  {
   "cell_type": "code",
   "execution_count": 2,
   "metadata": {},
   "outputs": [],
   "source": [
    "\n",
    "def get_config(file_name):\n",
    "\n",
    "    with open(file_name, 'r', encoding=\"UTF-8\") as stream:\n",
    "        config = yaml.safe_load(stream)\n",
    "    return config\n",
    "\n",
    "\n",
    "def parse_metadata(file_path):\n",
    "    data = {}\n",
    "    with gzip.open(file_path, 'rt') as f:\n",
    "        lines = f.readlines()\n",
    "\n",
    "    for line in lines:\n",
    "        splited = line.split('\\t', 1)\n",
    "        if len(splited) >= 2:\n",
    "            # Only include lines where the first part is '!Sample_title' or does not start with '!'\n",
    "            if splited[0].strip() == '!Sample_title' or not splited[0].lstrip().startswith('!'):\n",
    "                data[splited[0].strip()] = splited[1].strip().strip(\n",
    "                    '\"').split(\"\\t\")\n",
    "\n",
    "    df = pl.LazyFrame(data)\n",
    "    df = df.drop(['!Sample_title'])\n",
    "    df = df.drop('\"ID_REF\"',)\n",
    "    # df = df.apply(pl.to_numeric, errors='coerce')\n",
    "    df = df.with_columns(\n",
    "    pl.all().cast(pl.Float64, strict=False)  # Convert all **non-string** columns\n",
    ")   \n",
    "    return df.collect()\n",
    "\n",
    "\n",
    "def retrieve_data():\n",
    "\n",
    "    config = get_config('config.yaml')\n",
    "    lung3 = config['lung3_csv']\n",
    "    gene = config['gene']\n",
    "\n",
    "    lung3_df = pl.read_csv(lung3)\n",
    "    \n",
    "\n",
    "    gene_expression_df = parse_metadata(gene)\n",
    "    \n",
    "    combined_df = gene_expression_df.with_columns([lung3_df[col] for col in lung3_df.columns])\n",
    "    \n",
    "    return combined_df\n",
    "\n",
    "\n",
    "def sub_classification(histology):\n",
    "    if \"Carcinoma\" in histology:\n",
    "        return 'Carcinoma'\n",
    "    elif \"Adenocarcinoma\" in histology:\n",
    "        return 'Adenocarcinoma'\n",
    "    else:\n",
    "        return 'Others'"
   ]
  },
  {
   "cell_type": "markdown",
   "metadata": {},
   "source": [
    "### <span style=\"background-color: lightyellow;\">Feature engineering Task</span>"
   ]
  },
  {
   "cell_type": "code",
   "execution_count": 3,
   "metadata": {},
   "outputs": [],
   "source": [
    "class FeatureProcessing(TransformerMixin, BaseEstimator): \n",
    "    def __init__(self, covariance_threshold=0, quantile_percentage=95, nan_threshold =35):\n",
    "        self.covariance_threshold = covariance_threshold\n",
    "        self.quantile_percentage = quantile_percentage\n",
    "        self.nan_threshold= nan_threshold\n",
    "        \n",
    "    def fit(self, X, y=None):\n",
    "        \n",
    "        data_processor = DataProcessor(X)\n",
    "        data_processor.remove_nonrelated_columns()\n",
    "        data_processor.impute_notavailable_values('characteristics.tag.grade')\n",
    "        data_processor.drop_nan_columns(self.nan_threshold)\n",
    "        # data_processor.change_column_datatype()\n",
    "        \n",
    "        data_processor.cramerV(y, self.covariance_threshold)\n",
    "        self.covarrianced_columns = data_processor.covarrianced_columns\n",
    "        removed_catagorical_features = set(data_processor.find_cols_on_type(pl.String)) - set(self.covarrianced_columns)\n",
    "        data_processor.drop_columns(column_list = list(removed_catagorical_features))\n",
    "        data_processor.selecting_high_variance_gene_expression(self.quantile_percentage)\n",
    "        self.features = data_processor.dataframe.columns\n",
    "        \n",
    "        self.scaler = StandardScaler()\n",
    "        self.scaler.fit(data_processor.dataframe[data_processor.find_cols_on_type(pl.Float64)])\n",
    "        \n",
    "        self.one_hot_encoder= OneHotEncoder(sparse_output=False, handle_unknown='ignore')\n",
    "        self.one_hot_encoder.fit(data_processor.dataframe[data_processor.covarrianced_columns])\n",
    "        self.processed_df = data_processor.dataframe\n",
    "        return self\n",
    "    \n",
    "    def transform(self, X):\n",
    "    \n",
    "       data_processor = DataProcessor(X)\n",
    "       data_processor.dataframe = data_processor.dataframe[self.features]\n",
    "       data_processor.fit_standard_scaling(self.scaler)\n",
    "       data_processor.encoding_catagorical_features(self.one_hot_encoder, self.covarrianced_columns)\n",
    "       data_processor.dataframe = data_processor.dataframe.fill_null(value=0)\n",
    "       \n",
    "       X = data_processor.dataframe\n",
    "\n",
    "       return X"
   ]
  },
  {
   "cell_type": "markdown",
   "metadata": {},
   "source": [
    "### <span style=\"background-color: lightyellow;\">Evaluation Task</span>"
   ]
  },
  {
   "cell_type": "code",
   "execution_count": 4,
   "metadata": {},
   "outputs": [],
   "source": [
    "from sklearn.metrics import accuracy_score, classification_report, confusion_matrix\n",
    "from sklearn.metrics import ConfusionMatrixDisplay\n",
    "from sklearn.pipeline import Pipeline\n",
    "\n",
    "class Evaluator:\n",
    "    def __init__(self, model,):\n",
    "        pass\n",
    "        \n",
    "    @staticmethod\n",
    "    def eval(y_pred, test_y, print_result = False):\n",
    "        \n",
    "        accuracy = accuracy_score(test_y, y_pred)\n",
    "\n",
    "        if print_result:\n",
    "            report = classification_report(test_y, y_pred, zero_division=0)\n",
    "            matrix = ConfusionMatrixDisplay(confusion_matrix=confusion_matrix(y_pred, test_y))\n",
    "            print(\"Model testing complete.\")\n",
    "            print(f\"Accuracy: {accuracy}\")\n",
    "            print(\"\\nClassification Report:\\n\", report)\n",
    "            print(\"\\nMatrix:\\n\")\n",
    "            matrix.plot()\n",
    "\n",
    "        return accuracy\n"
   ]
  },
  {
   "cell_type": "markdown",
   "metadata": {},
   "source": [
    "\n",
    "### <span style=\"background-color: lightyellow;\">Pipeline Task</span>\n"
   ]
  },
  {
   "cell_type": "code",
   "execution_count": null,
   "metadata": {},
   "outputs": [],
   "source": []
  },
  {
   "cell_type": "code",
   "execution_count": 5,
   "metadata": {},
   "outputs": [],
   "source": [
    "from sklearn.preprocessing import LabelEncoder\n",
    "from codecarbon import track_emissions\n",
    "def return_train_test_split():\n",
    "    encoder = LabelEncoder()\n",
    "    dataset = retrieve_data()\n",
    "    y = dataset[\"characteristics.tag.histology\"].map_elements(lambda x: sub_classification(x), return_dtype=pl.String)\n",
    "    y_encoded = pl.DataFrame(encoder.fit_transform(y)).to_series()\n",
    "    X = dataset.drop('characteristics.tag.histology')\n",
    "    # Before doing any preprocessing steps we will split the data into train and test inorder to prevent data leakage\n",
    "    train_X, test_X, train_y, test_y = train_test_split(X, y_encoded, random_state=42)\n",
    "    return train_X, test_X, train_y, test_y \n"
   ]
  },
  {
   "cell_type": "code",
   "execution_count": 6,
   "metadata": {},
   "outputs": [
    {
     "name": "stderr",
     "output_type": "stream",
     "text": [
      "[codecarbon INFO @ 00:09:59] [setup] RAM Tracking...\n",
      "[codecarbon INFO @ 00:09:59] [setup] GPU Tracking...\n",
      "[codecarbon INFO @ 00:09:59] No GPU found.\n",
      "[codecarbon INFO @ 00:09:59] [setup] CPU Tracking...\n",
      "[codecarbon WARNING @ 00:09:59] No CPU tracking mode found. Falling back on CPU constant mode.\n",
      "[codecarbon WARNING @ 00:10:00] We saw that you have a Intel(R) Xeon(R) Gold 6248 CPU @ 2.50GHz but we don't know it. Please contact us.\n",
      "[codecarbon INFO @ 00:10:00] CPU Model on constant consumption mode: Intel(R) Xeon(R) Gold 6248 CPU @ 2.50GHz\n",
      "[codecarbon INFO @ 00:10:00] >>> Tracker's metadata:\n",
      "[codecarbon INFO @ 00:10:00]   Platform system: Linux-6.1.0-31-amd64-x86_64-with-glibc2.36\n",
      "[codecarbon INFO @ 00:10:00]   Python version: 3.12.3\n",
      "[codecarbon INFO @ 00:10:00]   CodeCarbon version: 2.2.2\n",
      "[codecarbon INFO @ 00:10:00]   Available RAM : 880.353 GB\n",
      "[codecarbon INFO @ 00:10:00]   CPU count: 80\n",
      "[codecarbon INFO @ 00:10:00]   CPU model: Intel(R) Xeon(R) Gold 6248 CPU @ 2.50GHz\n",
      "[codecarbon INFO @ 00:10:00]   GPU count: None\n",
      "[codecarbon INFO @ 00:10:00]   GPU model: None\n"
     ]
    },
    {
     "name": "stdout",
     "output_type": "stream",
     "text": [
      "###### Feature processing ######\n"
     ]
    },
    {
     "name": "stderr",
     "output_type": "stream",
     "text": [
      "/homes/rmeshita/Documents/Programming_6/Green_ML/data_processor_polars.py:170: RuntimeWarning: Unable to calculate Cramer's V using bias correction. Consider not using bias correction\n",
      "  warnings.warn(\n",
      "/homes/rmeshita/Documents/Programming_6/Green_ML/data_processor_polars.py:170: RuntimeWarning: Unable to calculate Cramer's V using bias correction. Consider not using bias correction\n",
      "  warnings.warn(\n",
      "/homes/rmeshita/Documents/Programming_6/Green_ML/data_processor_polars.py:170: RuntimeWarning: Unable to calculate Cramer's V using bias correction. Consider not using bias correction\n",
      "  warnings.warn(\n",
      "/homes/rmeshita/Documents/Programming_6/Green_ML/data_processor_polars.py:170: RuntimeWarning: Unable to calculate Cramer's V using bias correction. Consider not using bias correction\n",
      "  warnings.warn(\n",
      "/homes/rmeshita/Documents/Programming_6/Green_ML/data_processor_polars.py:170: RuntimeWarning: Unable to calculate Cramer's V using bias correction. Consider not using bias correction\n",
      "  warnings.warn(\n",
      "/homes/rmeshita/Documents/Programming_6/Green_ML/data_processor_polars.py:170: RuntimeWarning: Unable to calculate Cramer's V using bias correction. Consider not using bias correction\n",
      "  warnings.warn(\n",
      "/homes/rmeshita/Documents/Programming_6/Green_ML/data_processor_polars.py:170: RuntimeWarning: Unable to calculate Cramer's V using bias correction. Consider not using bias correction\n",
      "  warnings.warn(\n",
      "[codecarbon INFO @ 00:10:13] \n",
      "Graceful stopping: collecting and writing information.\n",
      "Please wait a few seconds...\n",
      "[codecarbon INFO @ 00:10:13] Energy consumed for RAM : 0.000843 kWh. RAM Power : 330.13251399993896 W\n",
      "[codecarbon INFO @ 00:10:13] Energy consumed for all CPUs : 0.000109 kWh. Total CPU Power : 42.5 W\n",
      "[codecarbon INFO @ 00:10:13] 0.000951 kWh of electricity used since the beginning.\n",
      "[codecarbon INFO @ 00:10:13] Done!\n",
      "\n"
     ]
    }
   ],
   "source": [
    "@track_emissions\n",
    "def run_feature_processing():\n",
    "    train_X, test_X, train_y, test_y = return_train_test_split()\n",
    "    print(\"###### Feature processing ######\")\n",
    "    fp = FeatureProcessing()\n",
    "    fp.fit(train_X,train_y)\n",
    "    x = fp.transform(train_X)\n",
    "    \n",
    "run_feature_processing()"
   ]
  },
  {
   "cell_type": "code",
   "execution_count": 13,
   "metadata": {},
   "outputs": [
    {
     "name": "stderr",
     "output_type": "stream",
     "text": [
      "[codecarbon INFO @ 12:36:46] [setup] RAM Tracking...\n",
      "[codecarbon INFO @ 12:36:46] [setup] GPU Tracking...\n",
      "[codecarbon INFO @ 12:36:46] No GPU found.\n",
      "[codecarbon INFO @ 12:36:46] [setup] CPU Tracking...\n",
      "[codecarbon WARNING @ 12:36:46] No CPU tracking mode found. Falling back on CPU constant mode.\n",
      "[codecarbon WARNING @ 12:36:48] We saw that you have a Intel(R) Xeon(R) Gold 6248 CPU @ 2.50GHz but we don't know it. Please contact us.\n",
      "[codecarbon INFO @ 12:36:48] CPU Model on constant consumption mode: Intel(R) Xeon(R) Gold 6248 CPU @ 2.50GHz\n",
      "[codecarbon INFO @ 12:36:48] >>> Tracker's metadata:\n",
      "[codecarbon INFO @ 12:36:48]   Platform system: Linux-6.1.0-31-amd64-x86_64-with-glibc2.36\n",
      "[codecarbon INFO @ 12:36:48]   Python version: 3.12.3\n",
      "[codecarbon INFO @ 12:36:48]   CodeCarbon version: 2.2.2\n",
      "[codecarbon INFO @ 12:36:48]   Available RAM : 880.353 GB\n",
      "[codecarbon INFO @ 12:36:48]   CPU count: 80\n",
      "[codecarbon INFO @ 12:36:48]   CPU model: Intel(R) Xeon(R) Gold 6248 CPU @ 2.50GHz\n",
      "[codecarbon INFO @ 12:36:48]   GPU count: None\n",
      "[codecarbon INFO @ 12:36:48]   GPU model: None\n"
     ]
    },
    {
     "name": "stdout",
     "output_type": "stream",
     "text": [
      "###### Model: XGboost ######\n"
     ]
    },
    {
     "name": "stderr",
     "output_type": "stream",
     "text": [
      "/homes/rmeshita/Documents/Programming_6/Green_ML/data_processor_polars.py:170: RuntimeWarning: Unable to calculate Cramer's V using bias correction. Consider not using bias correction\n",
      "  warnings.warn(\n",
      "/homes/rmeshita/Documents/Programming_6/Green_ML/data_processor_polars.py:170: RuntimeWarning: Unable to calculate Cramer's V using bias correction. Consider not using bias correction\n",
      "  warnings.warn(\n",
      "/homes/rmeshita/Documents/Programming_6/Green_ML/data_processor_polars.py:170: RuntimeWarning: Unable to calculate Cramer's V using bias correction. Consider not using bias correction\n",
      "  warnings.warn(\n",
      "/homes/rmeshita/Documents/Programming_6/Green_ML/data_processor_polars.py:170: RuntimeWarning: Unable to calculate Cramer's V using bias correction. Consider not using bias correction\n",
      "  warnings.warn(\n",
      "/homes/rmeshita/Documents/Programming_6/Green_ML/data_processor_polars.py:170: RuntimeWarning: Unable to calculate Cramer's V using bias correction. Consider not using bias correction\n",
      "  warnings.warn(\n",
      "/homes/rmeshita/Documents/Programming_6/Green_ML/data_processor_polars.py:170: RuntimeWarning: Unable to calculate Cramer's V using bias correction. Consider not using bias correction\n",
      "  warnings.warn(\n",
      "/homes/rmeshita/Documents/Programming_6/Green_ML/data_processor_polars.py:170: RuntimeWarning: Unable to calculate Cramer's V using bias correction. Consider not using bias correction\n",
      "  warnings.warn(\n",
      "[codecarbon INFO @ 12:37:06] Energy consumed for RAM : 0.001377 kWh. RAM Power : 330.13251399993896 W\n",
      "[codecarbon INFO @ 12:37:06] Energy consumed for all CPUs : 0.000177 kWh. Total CPU Power : 42.5 W\n",
      "[codecarbon INFO @ 12:37:06] 0.001554 kWh of electricity used since the beginning.\n",
      "[codecarbon INFO @ 12:37:21] Energy consumed for RAM : 0.002752 kWh. RAM Power : 330.13251399993896 W\n",
      "[codecarbon INFO @ 12:37:21] Energy consumed for all CPUs : 0.000354 kWh. Total CPU Power : 42.5 W\n",
      "[codecarbon INFO @ 12:37:21] 0.003106 kWh of electricity used since the beginning.\n",
      "[codecarbon INFO @ 12:37:29] \n",
      "Graceful stopping: collecting and writing information.\n",
      "Please wait a few seconds...\n",
      "[codecarbon INFO @ 12:37:29] Energy consumed for RAM : 0.003514 kWh. RAM Power : 330.13251399993896 W\n",
      "[codecarbon INFO @ 12:37:29] Energy consumed for all CPUs : 0.000453 kWh. Total CPU Power : 42.5 W\n",
      "[codecarbon INFO @ 12:37:29] 0.003967 kWh of electricity used since the beginning.\n",
      "[codecarbon INFO @ 12:37:29] Done!\n",
      "\n"
     ]
    },
    {
     "name": "stdout",
     "output_type": "stream",
     "text": [
      "Model testing complete.\n",
      "Accuracy: 0.8260869565217391\n",
      "\n",
      "Classification Report:\n",
      "               precision    recall  f1-score   support\n",
      "\n",
      "           0       0.82      1.00      0.90         9\n",
      "           1       0.83      0.91      0.87        11\n",
      "           2       0.00      0.00      0.00         3\n",
      "\n",
      "    accuracy                           0.83        23\n",
      "   macro avg       0.55      0.64      0.59        23\n",
      "weighted avg       0.72      0.83      0.77        23\n",
      "\n",
      "\n",
      "Matrix:\n",
      "\n"
     ]
    },
    {
     "data": {
      "image/png": "[encoded data removed]",
      "text/plain": [
       "<Figure size 640x480 with 2 Axes>"
      ]
     },
     "metadata": {},
     "output_type": "display_data"
    }
   ],
   "source": [
    "\n",
    "from sklearn.naive_bayes import GaussianNB\n",
    "from sklearn.tree import DecisionTreeClassifier\n",
    "from sklearn.ensemble import RandomForestClassifier\n",
    "from sklearn.pipeline import Pipeline\n",
    "import xgboost as xgb\n",
    "\n",
    "@track_emissions\n",
    "def run_xgbbost_pipeline():\n",
    "    train_X, test_X, train_y, test_y = return_train_test_split()\n",
    "    print(\"###### Model: XGboost ######\")\n",
    "    pipeline = Pipeline([('feature-processing', FeatureProcessing()), ('model', xgb.XGBClassifier(tree_method=\"hist\"))])\n",
    "    pipeline.fit(train_X, train_y)\n",
    "    preds = pipeline.predict(test_X)\n",
    "    Evaluator.eval(preds,test_y, print_result=True)\n",
    "\n",
    "run_xgbbost_pipeline()\n"
   ]
  },
  {
   "cell_type": "code",
   "execution_count": 14,
   "metadata": {},
   "outputs": [
    {
     "name": "stderr",
     "output_type": "stream",
     "text": [
      "[codecarbon INFO @ 12:37:29] [setup] RAM Tracking...\n",
      "[codecarbon INFO @ 12:37:29] [setup] GPU Tracking...\n",
      "[codecarbon INFO @ 12:37:29] No GPU found.\n",
      "[codecarbon INFO @ 12:37:29] [setup] CPU Tracking...\n",
      "[codecarbon WARNING @ 12:37:29] No CPU tracking mode found. Falling back on CPU constant mode.\n",
      "[codecarbon WARNING @ 12:37:31] We saw that you have a Intel(R) Xeon(R) Gold 6248 CPU @ 2.50GHz but we don't know it. Please contact us.\n",
      "[codecarbon INFO @ 12:37:31] CPU Model on constant consumption mode: Intel(R) Xeon(R) Gold 6248 CPU @ 2.50GHz\n",
      "[codecarbon INFO @ 12:37:31] >>> Tracker's metadata:\n",
      "[codecarbon INFO @ 12:37:31]   Platform system: Linux-6.1.0-31-amd64-x86_64-with-glibc2.36\n",
      "[codecarbon INFO @ 12:37:31]   Python version: 3.12.3\n",
      "[codecarbon INFO @ 12:37:31]   CodeCarbon version: 2.2.2\n",
      "[codecarbon INFO @ 12:37:31]   Available RAM : 880.353 GB\n",
      "[codecarbon INFO @ 12:37:31]   CPU count: 80\n",
      "[codecarbon INFO @ 12:37:31]   CPU model: Intel(R) Xeon(R) Gold 6248 CPU @ 2.50GHz\n",
      "[codecarbon INFO @ 12:37:31]   GPU count: None\n",
      "[codecarbon INFO @ 12:37:31]   GPU model: None\n"
     ]
    },
    {
     "name": "stdout",
     "output_type": "stream",
     "text": [
      "###### Model: Gaussian NB ######\n"
     ]
    },
    {
     "name": "stderr",
     "output_type": "stream",
     "text": [
      "/homes/rmeshita/Documents/Programming_6/Green_ML/data_processor_polars.py:170: RuntimeWarning: Unable to calculate Cramer's V using bias correction. Consider not using bias correction\n",
      "  warnings.warn(\n",
      "/homes/rmeshita/Documents/Programming_6/Green_ML/data_processor_polars.py:170: RuntimeWarning: Unable to calculate Cramer's V using bias correction. Consider not using bias correction\n",
      "  warnings.warn(\n",
      "/homes/rmeshita/Documents/Programming_6/Green_ML/data_processor_polars.py:170: RuntimeWarning: Unable to calculate Cramer's V using bias correction. Consider not using bias correction\n",
      "  warnings.warn(\n",
      "/homes/rmeshita/Documents/Programming_6/Green_ML/data_processor_polars.py:170: RuntimeWarning: Unable to calculate Cramer's V using bias correction. Consider not using bias correction\n",
      "  warnings.warn(\n",
      "/homes/rmeshita/Documents/Programming_6/Green_ML/data_processor_polars.py:170: RuntimeWarning: Unable to calculate Cramer's V using bias correction. Consider not using bias correction\n",
      "  warnings.warn(\n",
      "/homes/rmeshita/Documents/Programming_6/Green_ML/data_processor_polars.py:170: RuntimeWarning: Unable to calculate Cramer's V using bias correction. Consider not using bias correction\n",
      "  warnings.warn(\n",
      "/homes/rmeshita/Documents/Programming_6/Green_ML/data_processor_polars.py:170: RuntimeWarning: Unable to calculate Cramer's V using bias correction. Consider not using bias correction\n",
      "  warnings.warn(\n",
      "[codecarbon INFO @ 12:37:44] \n",
      "Graceful stopping: collecting and writing information.\n",
      "Please wait a few seconds...\n",
      "[codecarbon INFO @ 12:37:44] Energy consumed for RAM : 0.000962 kWh. RAM Power : 330.13251399993896 W\n",
      "[codecarbon INFO @ 12:37:44] Energy consumed for all CPUs : 0.000124 kWh. Total CPU Power : 42.5 W\n",
      "[codecarbon INFO @ 12:37:44] 0.001086 kWh of electricity used since the beginning.\n",
      "[codecarbon INFO @ 12:37:44] Done!\n",
      "\n"
     ]
    },
    {
     "name": "stdout",
     "output_type": "stream",
     "text": [
      "Model testing complete.\n",
      "Accuracy: 0.8260869565217391\n",
      "\n",
      "Classification Report:\n",
      "               precision    recall  f1-score   support\n",
      "\n",
      "           0       0.82      1.00      0.90         9\n",
      "           1       0.83      0.91      0.87        11\n",
      "           2       0.00      0.00      0.00         3\n",
      "\n",
      "    accuracy                           0.83        23\n",
      "   macro avg       0.55      0.64      0.59        23\n",
      "weighted avg       0.72      0.83      0.77        23\n",
      "\n",
      "\n",
      "Matrix:\n",
      "\n"
     ]
    },
    {
     "data": {
      "image/png": "[encoded data removed]",
      "text/plain": [
       "<Figure size 640x480 with 2 Axes>"
      ]
     },
     "metadata": {},
     "output_type": "display_data"
    }
   ],
   "source": [
    "@track_emissions\n",
    "def run_naive_bayes_pipeline():\n",
    "    train_X, test_X, train_y, test_y = return_train_test_split()\n",
    "    print(\"###### Model: Gaussian NB ######\")\n",
    "    pipeline1 = Pipeline([('feature-processing', FeatureProcessing()), ('model', GaussianNB())])\n",
    "    pipeline1.fit(train_X, train_y)\n",
    "    preds = pipeline1.predict(test_X)\n",
    "    Evaluator.eval(preds,test_y, print_result=True)\n",
    "run_naive_bayes_pipeline()"
   ]
  }
 ],
 "metadata": {
  "kernelspec": {
   "display_name": "Python 3.10.9 ('base')",
   "language": "python",
   "name": "python3"
  },
  "language_info": {
   "codemirror_mode": {
    "name": "ipython",
    "version": 3
   },
   "file_extension": ".py",
   "mimetype": "text/x-python",
   "name": "python",
   "nbconvert_exporter": "python",
   "pygments_lexer": "ipython3",
   "version": "3.12.3"
  },
  "orig_nbformat": 4,
  "vscode": {
   "interpreter": {
    "hash": "6b206076adfde74b94edf3e7fcee64be8304c1723f9b5959762d795d94eb4b82"
   }
  }
 },
 "nbformat": 4,
 "nbformat_minor": 2
}
